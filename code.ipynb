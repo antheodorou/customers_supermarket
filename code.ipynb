{
 "cells": [
  {
   "cell_type": "markdown",
   "metadata": {
    "id": "nFC46Y2gd3cc"
   },
   "source": [
    "<br />\n",
    "\n",
    "## Master of Science in Business Analytics \n",
    "## Department of Management Science and Technology \n",
    "## Athens University of Economics and Business\n",
    "<br />\n",
    "\n",
    "---\n",
    "<br />\n",
    "\n",
    "## <b> Mining Big Datasets </b>\n",
    "\n",
    "## <b> 1st Assignment </b>\n",
    "<br />\n",
    "\n",
    "> Konstantina Georgiopoulou (p2822004)<br />\n",
    "> Anastasios Theodorou (p2822007)\n"
   ]
  },
  {
   "cell_type": "markdown",
   "metadata": {
    "id": "SGRHOafeptJf"
   },
   "source": [
    "The goal of this assignment is to calculate the similarity between supermarket customers, using the demographic characteristics of 10.000 customers along with a list of groceries they bought. The workflow used in order to compute his/her 10 most similar customers. Moreover, we implemented a classification algorithm in order to predict his rating to the supermarket. "
   ]
  },
  {
   "cell_type": "markdown",
   "metadata": {
    "id": "2TZyVIAfeAH5"
   },
   "source": [
    "* Before we proceed to anything we had to import the appropriate libraries and connect to our `google-colab` account."
   ]
  },
  {
   "cell_type": "code",
   "execution_count": 1,
   "metadata": {
    "id": "PZYo_TFQ6Pnm"
   },
   "outputs": [],
   "source": [
    "#libraries\n",
    "import pandas as pd\n",
    "import matplotlib.pyplot as plt\n",
    "import numpy as np\n",
    "import sklearn as sk\n",
    "import statistics as st\n",
    "import itertools\n",
    "\n",
    "%matplotlib inline"
   ]
  },
  {
   "cell_type": "markdown",
   "metadata": {
    "id": "Xb1_nXwFeF3I"
   },
   "source": [
    "\n",
    "### **Question 1: Import and pre-process the dataset with customers**\n",
    "\n",
    "* After that, we downloaded the file `groceries.csv` and we proceeded in the creation of a dataframe. "
   ]
  },
  {
   "cell_type": "code",
   "execution_count": 2,
   "metadata": {
    "colab": {
     "base_uri": "https://localhost:8080/",
     "height": 565
    },
    "id": "PzM_trVj6vJw",
    "outputId": "0b87cebd-4f47-4045-ece4-433d3a09dc75"
   },
   "outputs": [
    {
     "data": {
      "text/html": [
       "<div>\n",
       "<style scoped>\n",
       "    .dataframe tbody tr th:only-of-type {\n",
       "        vertical-align: middle;\n",
       "    }\n",
       "\n",
       "    .dataframe tbody tr th {\n",
       "        vertical-align: top;\n",
       "    }\n",
       "\n",
       "    .dataframe thead th {\n",
       "        text-align: right;\n",
       "    }\n",
       "</style>\n",
       "<table border=\"1\" class=\"dataframe\">\n",
       "  <thead>\n",
       "    <tr style=\"text-align: right;\">\n",
       "      <th></th>\n",
       "      <th>Customer_ID</th>\n",
       "      <th>Age</th>\n",
       "      <th>Sex</th>\n",
       "      <th>Marital_Status</th>\n",
       "      <th>Education</th>\n",
       "      <th>Income</th>\n",
       "      <th>Customer_Rating</th>\n",
       "      <th>Persons_in_Household</th>\n",
       "      <th>Occupation</th>\n",
       "      <th>Groceries</th>\n",
       "    </tr>\n",
       "  </thead>\n",
       "  <tbody>\n",
       "    <tr>\n",
       "      <th>0</th>\n",
       "      <td>1</td>\n",
       "      <td>75</td>\n",
       "      <td>male</td>\n",
       "      <td>married</td>\n",
       "      <td>primary</td>\n",
       "      <td>20000</td>\n",
       "      <td>very_good</td>\n",
       "      <td>3</td>\n",
       "      <td>retired</td>\n",
       "      <td>citrus fruit,semi-finished bread,margarine,rea...</td>\n",
       "    </tr>\n",
       "    <tr>\n",
       "      <th>1</th>\n",
       "      <td>2</td>\n",
       "      <td>61</td>\n",
       "      <td>female</td>\n",
       "      <td>single</td>\n",
       "      <td>secondary</td>\n",
       "      <td>28000</td>\n",
       "      <td>good</td>\n",
       "      <td>1</td>\n",
       "      <td>housemaid</td>\n",
       "      <td>tropical fruit,yogurt,coffee</td>\n",
       "    </tr>\n",
       "    <tr>\n",
       "      <th>2</th>\n",
       "      <td>3</td>\n",
       "      <td>32</td>\n",
       "      <td>male</td>\n",
       "      <td>single</td>\n",
       "      <td>secondary</td>\n",
       "      <td>34000</td>\n",
       "      <td>very_good</td>\n",
       "      <td>1</td>\n",
       "      <td>blue-collar</td>\n",
       "      <td>whole milk</td>\n",
       "    </tr>\n",
       "    <tr>\n",
       "      <th>3</th>\n",
       "      <td>4</td>\n",
       "      <td>62</td>\n",
       "      <td>male</td>\n",
       "      <td>married</td>\n",
       "      <td>primary</td>\n",
       "      <td>31000</td>\n",
       "      <td>very_good</td>\n",
       "      <td>3</td>\n",
       "      <td>blue-collar</td>\n",
       "      <td>pip fruit,yogurt,cream cheese,meat spreads</td>\n",
       "    </tr>\n",
       "    <tr>\n",
       "      <th>4</th>\n",
       "      <td>5</td>\n",
       "      <td>66</td>\n",
       "      <td>female</td>\n",
       "      <td>married</td>\n",
       "      <td>secondary</td>\n",
       "      <td>19000</td>\n",
       "      <td>good</td>\n",
       "      <td>3</td>\n",
       "      <td>retired</td>\n",
       "      <td>other vegetables,whole milk,condensed milk,lon...</td>\n",
       "    </tr>\n",
       "    <tr>\n",
       "      <th>...</th>\n",
       "      <td>...</td>\n",
       "      <td>...</td>\n",
       "      <td>...</td>\n",
       "      <td>...</td>\n",
       "      <td>...</td>\n",
       "      <td>...</td>\n",
       "      <td>...</td>\n",
       "      <td>...</td>\n",
       "      <td>...</td>\n",
       "      <td>...</td>\n",
       "    </tr>\n",
       "    <tr>\n",
       "      <th>9995</th>\n",
       "      <td>9996</td>\n",
       "      <td>54</td>\n",
       "      <td>male</td>\n",
       "      <td>married</td>\n",
       "      <td>primary</td>\n",
       "      <td>15000</td>\n",
       "      <td>good</td>\n",
       "      <td>3</td>\n",
       "      <td>unemployed</td>\n",
       "      <td>berries,root vegetables,whole milk,butter,roll...</td>\n",
       "    </tr>\n",
       "    <tr>\n",
       "      <th>9996</th>\n",
       "      <td>9997</td>\n",
       "      <td>73</td>\n",
       "      <td>male</td>\n",
       "      <td>divorced</td>\n",
       "      <td>tertiary</td>\n",
       "      <td>30000</td>\n",
       "      <td>good</td>\n",
       "      <td>1</td>\n",
       "      <td>retired</td>\n",
       "      <td>meat,other vegetables,whole milk,beverages,rol...</td>\n",
       "    </tr>\n",
       "    <tr>\n",
       "      <th>9997</th>\n",
       "      <td>9998</td>\n",
       "      <td>38</td>\n",
       "      <td>male</td>\n",
       "      <td>married</td>\n",
       "      <td>primary</td>\n",
       "      <td>46000</td>\n",
       "      <td>fair</td>\n",
       "      <td>4</td>\n",
       "      <td>blue-collar</td>\n",
       "      <td>soda</td>\n",
       "    </tr>\n",
       "    <tr>\n",
       "      <th>9998</th>\n",
       "      <td>9999</td>\n",
       "      <td>44</td>\n",
       "      <td>female</td>\n",
       "      <td>married</td>\n",
       "      <td>secondary</td>\n",
       "      <td>23000</td>\n",
       "      <td>poor</td>\n",
       "      <td>4</td>\n",
       "      <td>housemaid</td>\n",
       "      <td>sausage,citrus fruit,tropical fruit,pip fruit,...</td>\n",
       "    </tr>\n",
       "    <tr>\n",
       "      <th>9999</th>\n",
       "      <td>10000</td>\n",
       "      <td>59</td>\n",
       "      <td>male</td>\n",
       "      <td>married</td>\n",
       "      <td>tertiary</td>\n",
       "      <td>21000</td>\n",
       "      <td>good</td>\n",
       "      <td>2</td>\n",
       "      <td>self-employed</td>\n",
       "      <td>soft cheese,cream cheese,rolls/buns,soda,speci...</td>\n",
       "    </tr>\n",
       "  </tbody>\n",
       "</table>\n",
       "<p>10000 rows × 10 columns</p>\n",
       "</div>"
      ],
      "text/plain": [
       "      Customer_ID Age     Sex Marital_Status  Education Income  \\\n",
       "0               1  75    male        married    primary  20000   \n",
       "1               2  61  female         single  secondary  28000   \n",
       "2               3  32    male         single  secondary  34000   \n",
       "3               4  62    male        married    primary  31000   \n",
       "4               5  66  female        married  secondary  19000   \n",
       "...           ...  ..     ...            ...        ...    ...   \n",
       "9995         9996  54    male        married    primary  15000   \n",
       "9996         9997  73    male       divorced   tertiary  30000   \n",
       "9997         9998  38    male        married    primary  46000   \n",
       "9998         9999  44  female        married  secondary  23000   \n",
       "9999        10000  59    male        married   tertiary  21000   \n",
       "\n",
       "     Customer_Rating  Persons_in_Household     Occupation  \\\n",
       "0          very_good                     3        retired   \n",
       "1               good                     1      housemaid   \n",
       "2          very_good                     1    blue-collar   \n",
       "3          very_good                     3    blue-collar   \n",
       "4               good                     3        retired   \n",
       "...              ...                   ...            ...   \n",
       "9995            good                     3     unemployed   \n",
       "9996            good                     1        retired   \n",
       "9997            fair                     4    blue-collar   \n",
       "9998            poor                     4      housemaid   \n",
       "9999            good                     2  self-employed   \n",
       "\n",
       "                                              Groceries  \n",
       "0     citrus fruit,semi-finished bread,margarine,rea...  \n",
       "1                          tropical fruit,yogurt,coffee  \n",
       "2                                            whole milk  \n",
       "3            pip fruit,yogurt,cream cheese,meat spreads  \n",
       "4     other vegetables,whole milk,condensed milk,lon...  \n",
       "...                                                 ...  \n",
       "9995  berries,root vegetables,whole milk,butter,roll...  \n",
       "9996  meat,other vegetables,whole milk,beverages,rol...  \n",
       "9997                                               soda  \n",
       "9998  sausage,citrus fruit,tropical fruit,pip fruit,...  \n",
       "9999  soft cheese,cream cheese,rolls/buns,soda,speci...  \n",
       "\n",
       "[10000 rows x 10 columns]"
      ]
     },
     "execution_count": 2,
     "metadata": {},
     "output_type": "execute_result"
    }
   ],
   "source": [
    "groceries=pd.read_csv('groceries.csv', sep=';')\n",
    "groceries"
   ]
  },
  {
   "cell_type": "markdown",
   "metadata": {
    "id": "8p9zQoUUePb5"
   },
   "source": [
    "* We saved the average of the columns `Age` and `Income` in two variables in order to use them later. For that computation we had to use only those cells that did not contain missing values."
   ]
  },
  {
   "cell_type": "code",
   "execution_count": 3,
   "metadata": {
    "colab": {
     "base_uri": "https://localhost:8080/",
     "height": 54
    },
    "id": "cvabUIiT6x95",
    "outputId": "da757951-ed1b-49af-d29c-a9ca8a13c6c6"
   },
   "outputs": [
    {
     "name": "stdout",
     "output_type": "stream",
     "text": [
      "53\n"
     ]
    },
    {
     "data": {
      "text/plain": [
       "'30036'"
      ]
     },
     "execution_count": 3,
     "metadata": {},
     "output_type": "execute_result"
    }
   ],
   "source": [
    "avg_age = str(int(divmod(np.asarray(groceries[groceries['Age'].str.isspace() == False]['Age'], dtype=np.int).mean(),1)[0]))\n",
    "avg_inc = str(int(divmod(np.asarray(groceries[groceries['Income'].str.isspace() == False]['Income'], dtype=np.int).mean(),1)[0]))\n",
    "print(avg_age)\n",
    "avg_inc"
   ]
  },
  {
   "cell_type": "markdown",
   "metadata": {
    "id": "gXCnwUgUeXJW"
   },
   "source": [
    "* Later, we converted all the columns into `string` format, so as to make the transforming of the data easier."
   ]
  },
  {
   "cell_type": "code",
   "execution_count": 4,
   "metadata": {
    "colab": {
     "base_uri": "https://localhost:8080/"
    },
    "id": "hYhfPvDpebMD",
    "outputId": "45cd5ffc-80f8-4493-c634-c181a3b66db3"
   },
   "outputs": [
    {
     "data": {
      "text/plain": [
       "{'Customer_ID': str,\n",
       " 'Age': str,\n",
       " 'Sex': str,\n",
       " 'Marital_Status': str,\n",
       " 'Education': str,\n",
       " 'Income': str,\n",
       " 'Customer_Rating': str,\n",
       " 'Persons_in_Household': str,\n",
       " 'Occupation': str,\n",
       " 'Groceries': str}"
      ]
     },
     "execution_count": 4,
     "metadata": {},
     "output_type": "execute_result"
    }
   ],
   "source": [
    "headers = groceries.columns.tolist()\n",
    "data_types = { header: np.str for header in headers }\n",
    "data_types"
   ]
  },
  {
   "cell_type": "code",
   "execution_count": 5,
   "metadata": {
    "colab": {
     "base_uri": "https://localhost:8080/",
     "height": 348
    },
    "id": "F7r0kNRReu1-",
    "outputId": "a76e05ae-c657-4732-a407-9c82a87fc074"
   },
   "outputs": [
    {
     "data": {
      "text/html": [
       "<div>\n",
       "<style scoped>\n",
       "    .dataframe tbody tr th:only-of-type {\n",
       "        vertical-align: middle;\n",
       "    }\n",
       "\n",
       "    .dataframe tbody tr th {\n",
       "        vertical-align: top;\n",
       "    }\n",
       "\n",
       "    .dataframe thead th {\n",
       "        text-align: right;\n",
       "    }\n",
       "</style>\n",
       "<table border=\"1\" class=\"dataframe\">\n",
       "  <thead>\n",
       "    <tr style=\"text-align: right;\">\n",
       "      <th></th>\n",
       "      <th>Customer_ID</th>\n",
       "      <th>Age</th>\n",
       "      <th>Sex</th>\n",
       "      <th>Marital_Status</th>\n",
       "      <th>Education</th>\n",
       "      <th>Income</th>\n",
       "      <th>Customer_Rating</th>\n",
       "      <th>Persons_in_Household</th>\n",
       "      <th>Occupation</th>\n",
       "      <th>Groceries</th>\n",
       "    </tr>\n",
       "  </thead>\n",
       "  <tbody>\n",
       "    <tr>\n",
       "      <th>0</th>\n",
       "      <td>1</td>\n",
       "      <td>75</td>\n",
       "      <td>male</td>\n",
       "      <td>married</td>\n",
       "      <td>primary</td>\n",
       "      <td>20000</td>\n",
       "      <td>very_good</td>\n",
       "      <td>3</td>\n",
       "      <td>retired</td>\n",
       "      <td>citrus fruit,semi-finished bread,margarine,rea...</td>\n",
       "    </tr>\n",
       "    <tr>\n",
       "      <th>1</th>\n",
       "      <td>2</td>\n",
       "      <td>61</td>\n",
       "      <td>female</td>\n",
       "      <td>single</td>\n",
       "      <td>secondary</td>\n",
       "      <td>28000</td>\n",
       "      <td>good</td>\n",
       "      <td>1</td>\n",
       "      <td>housemaid</td>\n",
       "      <td>tropical fruit,yogurt,coffee</td>\n",
       "    </tr>\n",
       "    <tr>\n",
       "      <th>2</th>\n",
       "      <td>3</td>\n",
       "      <td>32</td>\n",
       "      <td>male</td>\n",
       "      <td>single</td>\n",
       "      <td>secondary</td>\n",
       "      <td>34000</td>\n",
       "      <td>very_good</td>\n",
       "      <td>1</td>\n",
       "      <td>blue-collar</td>\n",
       "      <td>whole milk</td>\n",
       "    </tr>\n",
       "    <tr>\n",
       "      <th>3</th>\n",
       "      <td>4</td>\n",
       "      <td>62</td>\n",
       "      <td>male</td>\n",
       "      <td>married</td>\n",
       "      <td>primary</td>\n",
       "      <td>31000</td>\n",
       "      <td>very_good</td>\n",
       "      <td>3</td>\n",
       "      <td>blue-collar</td>\n",
       "      <td>pip fruit,yogurt,cream cheese,meat spreads</td>\n",
       "    </tr>\n",
       "    <tr>\n",
       "      <th>4</th>\n",
       "      <td>5</td>\n",
       "      <td>66</td>\n",
       "      <td>female</td>\n",
       "      <td>married</td>\n",
       "      <td>secondary</td>\n",
       "      <td>19000</td>\n",
       "      <td>good</td>\n",
       "      <td>3</td>\n",
       "      <td>retired</td>\n",
       "      <td>other vegetables,whole milk,condensed milk,lon...</td>\n",
       "    </tr>\n",
       "  </tbody>\n",
       "</table>\n",
       "</div>"
      ],
      "text/plain": [
       "  Customer_ID Age     Sex Marital_Status  Education Income Customer_Rating  \\\n",
       "0           1  75    male        married    primary  20000       very_good   \n",
       "1           2  61  female         single  secondary  28000            good   \n",
       "2           3  32    male         single  secondary  34000       very_good   \n",
       "3           4  62    male        married    primary  31000       very_good   \n",
       "4           5  66  female        married  secondary  19000            good   \n",
       "\n",
       "  Persons_in_Household   Occupation  \\\n",
       "0                    3      retired   \n",
       "1                    1    housemaid   \n",
       "2                    1  blue-collar   \n",
       "3                    3  blue-collar   \n",
       "4                    3      retired   \n",
       "\n",
       "                                           Groceries  \n",
       "0  citrus fruit,semi-finished bread,margarine,rea...  \n",
       "1                       tropical fruit,yogurt,coffee  \n",
       "2                                         whole milk  \n",
       "3         pip fruit,yogurt,cream cheese,meat spreads  \n",
       "4  other vegetables,whole milk,condensed milk,lon...  "
      ]
     },
     "execution_count": 5,
     "metadata": {},
     "output_type": "execute_result"
    }
   ],
   "source": [
    "groceries = groceries.astype(data_types)\n",
    "groceries.head()"
   ]
  },
  {
   "cell_type": "markdown",
   "metadata": {
    "id": "2juwffcue22U"
   },
   "source": [
    "* In order to fill the missing values it was necessary to locate them and replace the white-spaces with the means we found earlier. So, after that we had only to convert the columns into `integer` type and set the variable `Customer_ID` as index of our final data-frame."
   ]
  },
  {
   "cell_type": "code",
   "execution_count": 6,
   "metadata": {
    "colab": {
     "base_uri": "https://localhost:8080/",
     "height": 379
    },
    "id": "i46bOyEh7FUA",
    "outputId": "d970c8c2-cbb4-4d72-90ab-59c85dadc621"
   },
   "outputs": [
    {
     "data": {
      "text/html": [
       "<div>\n",
       "<style scoped>\n",
       "    .dataframe tbody tr th:only-of-type {\n",
       "        vertical-align: middle;\n",
       "    }\n",
       "\n",
       "    .dataframe tbody tr th {\n",
       "        vertical-align: top;\n",
       "    }\n",
       "\n",
       "    .dataframe thead th {\n",
       "        text-align: right;\n",
       "    }\n",
       "</style>\n",
       "<table border=\"1\" class=\"dataframe\">\n",
       "  <thead>\n",
       "    <tr style=\"text-align: right;\">\n",
       "      <th></th>\n",
       "      <th>Age</th>\n",
       "      <th>Sex</th>\n",
       "      <th>Marital_Status</th>\n",
       "      <th>Education</th>\n",
       "      <th>Income</th>\n",
       "      <th>Customer_Rating</th>\n",
       "      <th>Persons_in_Household</th>\n",
       "      <th>Occupation</th>\n",
       "      <th>Groceries</th>\n",
       "    </tr>\n",
       "    <tr>\n",
       "      <th>Customer_ID</th>\n",
       "      <th></th>\n",
       "      <th></th>\n",
       "      <th></th>\n",
       "      <th></th>\n",
       "      <th></th>\n",
       "      <th></th>\n",
       "      <th></th>\n",
       "      <th></th>\n",
       "      <th></th>\n",
       "    </tr>\n",
       "  </thead>\n",
       "  <tbody>\n",
       "    <tr>\n",
       "      <th>1</th>\n",
       "      <td>75</td>\n",
       "      <td>male</td>\n",
       "      <td>married</td>\n",
       "      <td>primary</td>\n",
       "      <td>20000</td>\n",
       "      <td>very_good</td>\n",
       "      <td>3</td>\n",
       "      <td>retired</td>\n",
       "      <td>citrus fruit,semi-finished bread,margarine,rea...</td>\n",
       "    </tr>\n",
       "    <tr>\n",
       "      <th>2</th>\n",
       "      <td>61</td>\n",
       "      <td>female</td>\n",
       "      <td>single</td>\n",
       "      <td>secondary</td>\n",
       "      <td>28000</td>\n",
       "      <td>good</td>\n",
       "      <td>1</td>\n",
       "      <td>housemaid</td>\n",
       "      <td>tropical fruit,yogurt,coffee</td>\n",
       "    </tr>\n",
       "    <tr>\n",
       "      <th>3</th>\n",
       "      <td>32</td>\n",
       "      <td>male</td>\n",
       "      <td>single</td>\n",
       "      <td>secondary</td>\n",
       "      <td>34000</td>\n",
       "      <td>very_good</td>\n",
       "      <td>1</td>\n",
       "      <td>blue-collar</td>\n",
       "      <td>whole milk</td>\n",
       "    </tr>\n",
       "    <tr>\n",
       "      <th>4</th>\n",
       "      <td>62</td>\n",
       "      <td>male</td>\n",
       "      <td>married</td>\n",
       "      <td>primary</td>\n",
       "      <td>31000</td>\n",
       "      <td>very_good</td>\n",
       "      <td>3</td>\n",
       "      <td>blue-collar</td>\n",
       "      <td>pip fruit,yogurt,cream cheese,meat spreads</td>\n",
       "    </tr>\n",
       "    <tr>\n",
       "      <th>5</th>\n",
       "      <td>66</td>\n",
       "      <td>female</td>\n",
       "      <td>married</td>\n",
       "      <td>secondary</td>\n",
       "      <td>19000</td>\n",
       "      <td>good</td>\n",
       "      <td>3</td>\n",
       "      <td>retired</td>\n",
       "      <td>other vegetables,whole milk,condensed milk,lon...</td>\n",
       "    </tr>\n",
       "  </tbody>\n",
       "</table>\n",
       "</div>"
      ],
      "text/plain": [
       "             Age     Sex Marital_Status  Education  Income Customer_Rating  \\\n",
       "Customer_ID                                                                  \n",
       "1             75    male        married    primary   20000       very_good   \n",
       "2             61  female         single  secondary   28000            good   \n",
       "3             32    male         single  secondary   34000       very_good   \n",
       "4             62    male        married    primary   31000       very_good   \n",
       "5             66  female        married  secondary   19000            good   \n",
       "\n",
       "             Persons_in_Household   Occupation  \\\n",
       "Customer_ID                                      \n",
       "1                               3      retired   \n",
       "2                               1    housemaid   \n",
       "3                               1  blue-collar   \n",
       "4                               3  blue-collar   \n",
       "5                               3      retired   \n",
       "\n",
       "                                                     Groceries  \n",
       "Customer_ID                                                     \n",
       "1            citrus fruit,semi-finished bread,margarine,rea...  \n",
       "2                                 tropical fruit,yogurt,coffee  \n",
       "3                                                   whole milk  \n",
       "4                   pip fruit,yogurt,cream cheese,meat spreads  \n",
       "5            other vegetables,whole milk,condensed milk,lon...  "
      ]
     },
     "execution_count": 6,
     "metadata": {},
     "output_type": "execute_result"
    }
   ],
   "source": [
    "#fill nas\n",
    "groceries['Age'] = groceries['Age'].str.replace(' ', avg_age, regex=False).astype('int64')\n",
    "groceries['Income'] = groceries['Income'].str.replace(' ', avg_inc, regex=False).astype('int64')\n",
    "groceries['Customer_ID'] = groceries['Customer_ID'].astype('int64')\n",
    "groceries['Persons_in_Household'] = groceries['Persons_in_Household'].astype('int64')\n",
    "groceries = groceries.set_index('Customer_ID')\n",
    "groceries.head()"
   ]
  },
  {
   "cell_type": "markdown",
   "metadata": {
    "id": "cxcHcduFqhEv"
   },
   "source": [
    "* Check that everything gone well:"
   ]
  },
  {
   "cell_type": "code",
   "execution_count": 7,
   "metadata": {
    "colab": {
     "base_uri": "https://localhost:8080/"
    },
    "id": "-rof1Dfa7H4w",
    "outputId": "36e28170-a9df-43c7-a9a6-a22f4473950a"
   },
   "outputs": [
    {
     "data": {
      "text/plain": [
       "Age                     0\n",
       "Sex                     0\n",
       "Marital_Status          0\n",
       "Education               0\n",
       "Income                  0\n",
       "Customer_Rating         0\n",
       "Persons_in_Household    0\n",
       "Occupation              0\n",
       "Groceries               0\n",
       "dtype: int64"
      ]
     },
     "execution_count": 7,
     "metadata": {},
     "output_type": "execute_result"
    }
   ],
   "source": [
    "groceries.isnull().sum()"
   ]
  },
  {
   "cell_type": "markdown",
   "metadata": {
    "id": "G18tv69Q7R3U"
   },
   "source": [
    "### **Question 2: Compute data (dis-)similarity**\n",
    "\n",
    "We have 4 types of data and for each one of them we computed the similarity according to the following types.\n",
    "\n",
    "*   **numeric_dissimilarity:** \n",
    "$$ d(a,b) = |a-b| /maxvalue - minvalue $$\n",
    "*   **nominal_dissimilarity:** \n",
    "$$ d(a,b)=0 if a = b, 1 otherwise $$\n",
    "*   **ordinal_dissimilarity:** \n",
    "$$ d(a,b) = |rank(a) - rank(b)| / maxrank - maxrank $$\n",
    "*   **set_dissimilarity:** (using Jaccard similarity)\n",
    "$$ 1 - intersection / union $$\n",
    "\n",
    "> Types of Data\n",
    ">\n",
    ">\n",
    ">*   **Numeric:** Age, Income, Person in Household\n",
    ">*   **Nominal:** Sex, Marital Status, Occupation\n",
    ">*   **Ordinal:** Education, Customer Rating\n",
    ">*   **Set:** Groceries\n",
    "\n",
    "\n",
    "* We could create an `m*m` dissimilarity matrices, where `m` is the number of observations(m=10.000) for each of the variables (we have 9 variables), but this is very resource-intensive, so we decided to do the computations on-the-fly, for specific pairs of customers.   \n",
    "\n",
    "* According to all of these, we created a function called `dissimilarityFunction` in which we compute the dissimilarity of each attribute of every pair of customers.\n",
    "\n"
   ]
  },
  {
   "cell_type": "markdown",
   "metadata": {
    "id": "VKvSsOuXB98_"
   },
   "source": [
    "* So, first, we convert the ordinal variables into numeric. "
   ]
  },
  {
   "cell_type": "code",
   "execution_count": 8,
   "metadata": {
    "colab": {
     "base_uri": "https://localhost:8080/",
     "height": 415
    },
    "id": "Q7Z2j7Op7wRi",
    "outputId": "2e303b74-6910-4baf-ed22-7aa02dc7ea28"
   },
   "outputs": [
    {
     "name": "stdout",
     "output_type": "stream",
     "text": [
      "['primary' 'secondary' 'tertiary']\n",
      "['very_good' 'good' 'fair' 'excellent' 'poor']\n"
     ]
    },
    {
     "data": {
      "text/html": [
       "<div>\n",
       "<style scoped>\n",
       "    .dataframe tbody tr th:only-of-type {\n",
       "        vertical-align: middle;\n",
       "    }\n",
       "\n",
       "    .dataframe tbody tr th {\n",
       "        vertical-align: top;\n",
       "    }\n",
       "\n",
       "    .dataframe thead th {\n",
       "        text-align: right;\n",
       "    }\n",
       "</style>\n",
       "<table border=\"1\" class=\"dataframe\">\n",
       "  <thead>\n",
       "    <tr style=\"text-align: right;\">\n",
       "      <th></th>\n",
       "      <th>Age</th>\n",
       "      <th>Sex</th>\n",
       "      <th>Marital_Status</th>\n",
       "      <th>Education</th>\n",
       "      <th>Income</th>\n",
       "      <th>Customer_Rating</th>\n",
       "      <th>Persons_in_Household</th>\n",
       "      <th>Occupation</th>\n",
       "      <th>Groceries</th>\n",
       "    </tr>\n",
       "    <tr>\n",
       "      <th>Customer_ID</th>\n",
       "      <th></th>\n",
       "      <th></th>\n",
       "      <th></th>\n",
       "      <th></th>\n",
       "      <th></th>\n",
       "      <th></th>\n",
       "      <th></th>\n",
       "      <th></th>\n",
       "      <th></th>\n",
       "    </tr>\n",
       "  </thead>\n",
       "  <tbody>\n",
       "    <tr>\n",
       "      <th>1</th>\n",
       "      <td>75</td>\n",
       "      <td>male</td>\n",
       "      <td>married</td>\n",
       "      <td>1</td>\n",
       "      <td>20000</td>\n",
       "      <td>4</td>\n",
       "      <td>3</td>\n",
       "      <td>retired</td>\n",
       "      <td>citrus fruit,semi-finished bread,margarine,rea...</td>\n",
       "    </tr>\n",
       "    <tr>\n",
       "      <th>2</th>\n",
       "      <td>61</td>\n",
       "      <td>female</td>\n",
       "      <td>single</td>\n",
       "      <td>2</td>\n",
       "      <td>28000</td>\n",
       "      <td>3</td>\n",
       "      <td>1</td>\n",
       "      <td>housemaid</td>\n",
       "      <td>tropical fruit,yogurt,coffee</td>\n",
       "    </tr>\n",
       "    <tr>\n",
       "      <th>3</th>\n",
       "      <td>32</td>\n",
       "      <td>male</td>\n",
       "      <td>single</td>\n",
       "      <td>2</td>\n",
       "      <td>34000</td>\n",
       "      <td>4</td>\n",
       "      <td>1</td>\n",
       "      <td>blue-collar</td>\n",
       "      <td>whole milk</td>\n",
       "    </tr>\n",
       "    <tr>\n",
       "      <th>4</th>\n",
       "      <td>62</td>\n",
       "      <td>male</td>\n",
       "      <td>married</td>\n",
       "      <td>1</td>\n",
       "      <td>31000</td>\n",
       "      <td>4</td>\n",
       "      <td>3</td>\n",
       "      <td>blue-collar</td>\n",
       "      <td>pip fruit,yogurt,cream cheese,meat spreads</td>\n",
       "    </tr>\n",
       "    <tr>\n",
       "      <th>5</th>\n",
       "      <td>66</td>\n",
       "      <td>female</td>\n",
       "      <td>married</td>\n",
       "      <td>2</td>\n",
       "      <td>19000</td>\n",
       "      <td>3</td>\n",
       "      <td>3</td>\n",
       "      <td>retired</td>\n",
       "      <td>other vegetables,whole milk,condensed milk,lon...</td>\n",
       "    </tr>\n",
       "  </tbody>\n",
       "</table>\n",
       "</div>"
      ],
      "text/plain": [
       "             Age     Sex Marital_Status  Education  Income  Customer_Rating  \\\n",
       "Customer_ID                                                                   \n",
       "1             75    male        married          1   20000                4   \n",
       "2             61  female         single          2   28000                3   \n",
       "3             32    male         single          2   34000                4   \n",
       "4             62    male        married          1   31000                4   \n",
       "5             66  female        married          2   19000                3   \n",
       "\n",
       "             Persons_in_Household   Occupation  \\\n",
       "Customer_ID                                      \n",
       "1                               3      retired   \n",
       "2                               1    housemaid   \n",
       "3                               1  blue-collar   \n",
       "4                               3  blue-collar   \n",
       "5                               3      retired   \n",
       "\n",
       "                                                     Groceries  \n",
       "Customer_ID                                                     \n",
       "1            citrus fruit,semi-finished bread,margarine,rea...  \n",
       "2                                 tropical fruit,yogurt,coffee  \n",
       "3                                                   whole milk  \n",
       "4                   pip fruit,yogurt,cream cheese,meat spreads  \n",
       "5            other vegetables,whole milk,condensed milk,lon...  "
      ]
     },
     "execution_count": 8,
     "metadata": {},
     "output_type": "execute_result"
    }
   ],
   "source": [
    "#map ordinal variables\n",
    "print(groceries.Education.unique())\n",
    "print(groceries.Customer_Rating.unique())\n",
    "mapping1 = {'poor': 1, 'fair': 2, 'good': 3, 'very_good': 4, 'excellent': 5}\n",
    "mapping2 = {'primary': 1, 'secondary': 2, 'tertiary': 3}\n",
    "groceries['Customer_Rating'] = groceries['Customer_Rating'].map(mapping1)\n",
    "groceries['Education'] = groceries['Education'].map(mapping2)\n",
    "groceries.head()"
   ]
  },
  {
   "cell_type": "code",
   "execution_count": 9,
   "metadata": {
    "id": "ar1FcetH-hny"
   },
   "outputs": [],
   "source": [
    "groceries = groceries.reset_index()"
   ]
  },
  {
   "cell_type": "markdown",
   "metadata": {
    "id": "kptlQGyICROJ"
   },
   "source": [
    "* Next, we create the function in which we calculate the dissimilarity, according to the previous types. This function takes as input the `ids` of 2 customers and returns each dissimilarity.  "
   ]
  },
  {
   "cell_type": "code",
   "execution_count": 10,
   "metadata": {
    "id": "W7CWxZ4N-H0l"
   },
   "outputs": [],
   "source": [
    "#dissimilarityFunction\n",
    "def dissimilarityFunction(a, b):\n",
    "     # Age\n",
    "     age1 = groceries['Age'].loc[groceries['Customer_ID'] == a].values[0]\n",
    "     age2 = groceries['Age'].loc[groceries['Customer_ID'] == b].values[0]\n",
    "     AgeDissimilarity=(abs(age1 - age2)) /(max(groceries['Age']) - min(groceries['Age']))\n",
    "     \n",
    "     #sex\n",
    "     sexa = groceries['Sex'].loc[groceries['Customer_ID'] == a].values[0]\n",
    "     sexb = groceries['Sex'].loc[groceries['Customer_ID'] == b].values[0]\n",
    "     if (sexa==sexb):\n",
    "        SexSimilarity = 1\n",
    "     else:\n",
    "        SexSimilarity = 0\n",
    "     \n",
    "     SexDissimilarity = 1 - SexSimilarity\n",
    "\n",
    "     #martital\n",
    "     martitala = groceries['Marital_Status'].loc[groceries['Customer_ID'] == a].values[0]\n",
    "     martitalb = groceries['Marital_Status'].loc[groceries['Customer_ID'] == b].values[0]\n",
    "     if (martitala==martitalb):\n",
    "        MartitalSimilarity = 1\n",
    "     else:\n",
    "        MartitalSimilarity= 0\n",
    "     \n",
    "     MartitalDissimilarity = 1 - MartitalSimilarity\n",
    "\n",
    "     # Education \n",
    "     educationa = groceries['Education'].loc[groceries['Customer_ID'] == a].values[0] \n",
    "     educationb = groceries['Education'].loc[groceries['Customer_ID'] == b].values[0] \n",
    "\n",
    "     EducationDissimilarity= abs(educationa - educationb) / (max(groceries['Education']) - min(groceries['Education']))\n",
    "\n",
    "     #income\n",
    "     incomea = groceries['Income'].loc[groceries['Customer_ID'] == a].values[0]\n",
    "     incomeb = groceries['Income'].loc[groceries['Customer_ID'] == b].values[0]\n",
    "     IncomeDissimilarity=(abs(incomea - incomeb)) /(max(groceries['Income']) - min(groceries['Income']))\n",
    "\n",
    "     #customer rating \n",
    "     ratinga = groceries['Customer_Rating'].loc[groceries['Customer_ID'] == a].values[0] \n",
    "     ratingb = groceries['Customer_Rating'].loc[groceries['Customer_ID'] == b].values[0] \n",
    "\n",
    "     RatingDissimilarity= abs(ratinga - ratingb) / (max(groceries['Customer_Rating']) - min(groceries['Customer_Rating']))\n",
    "\n",
    "     #Persons_in_Household\n",
    "     personsa = groceries['Persons_in_Household'].loc[groceries['Customer_ID'] == a].values[0]\n",
    "     personsb = groceries['Persons_in_Household'].loc[groceries['Customer_ID'] == b].values[0]\n",
    "     Persons_in_HouseholdDissimilarity=(abs(personsa - personsb)) /(max(groceries['Persons_in_Household']) - min(groceries['Persons_in_Household']))\n",
    "\n",
    "     #Occupation\n",
    "     occupationa = groceries['Occupation'].loc[groceries['Customer_ID'] == a].values[0]\n",
    "     occupationb = groceries['Occupation'].loc[groceries['Customer_ID'] == b].values[0]\n",
    "     if (occupationa==occupationb):\n",
    "        OccupationSimilarity = 1\n",
    "     else:\n",
    "        OccupationSimilarity = 0\n",
    "     \n",
    "     OccupationDissimilarity = 1 - OccupationSimilarity\n",
    "\n",
    "     #Groceries\n",
    "     list1= groceries['Groceries'].loc[groceries['Customer_ID'] == a].values[0]\n",
    "     list2= groceries['Groceries'].loc[groceries['Customer_ID'] == b].values[0]\n",
    "     intersection = len(list(set (list1).intersection(list2)))\n",
    "     union = (len(set (list1)) + len(set (list2))) - intersection\n",
    "     JaccardSimilarity= float(intersection) / union\n",
    "\n",
    "     JaccardDissimilarity= 1- JaccardSimilarity\n",
    "     \n",
    "\n",
    "     avgDissimilarity= (AgeDissimilarity+SexDissimilarity+MartitalDissimilarity+ EducationDissimilarity+IncomeDissimilarity+RatingDissimilarity+Persons_in_HouseholdDissimilarity+OccupationDissimilarity+JaccardDissimilarity) / 9  \n",
    "     return (avgDissimilarity.round(3))"
   ]
  },
  {
   "cell_type": "markdown",
   "metadata": {
    "id": "fqUs1jCUHQbZ"
   },
   "source": [
    "* Now, we can compute the dissimilarity for each pair of customers. "
   ]
  },
  {
   "cell_type": "code",
   "execution_count": 11,
   "metadata": {
    "colab": {
     "base_uri": "https://localhost:8080/"
    },
    "id": "uXGnW7e8Cztc",
    "outputId": "75b20159-57bb-43ab-e5db-111f7d6105d7"
   },
   "outputs": [
    {
     "data": {
      "text/plain": [
       "0.502"
      ]
     },
     "execution_count": 11,
     "metadata": {},
     "output_type": "execute_result"
    }
   ],
   "source": [
    "dissimilarityFunction(1,3)"
   ]
  },
  {
   "cell_type": "markdown",
   "metadata": {
    "id": "NJPxoojKJ3VV"
   },
   "source": [
    "* If the input is the `id` of the same customer, it returns `0`.  "
   ]
  },
  {
   "cell_type": "code",
   "execution_count": 12,
   "metadata": {
    "colab": {
     "base_uri": "https://localhost:8080/"
    },
    "id": "lQbL_uFUJ2qN",
    "outputId": "4cf72c82-b3aa-4e30-bc64-f7f31ccfffa6"
   },
   "outputs": [
    {
     "data": {
      "text/plain": [
       "0.0"
      ]
     },
     "execution_count": 12,
     "metadata": {},
     "output_type": "execute_result"
    }
   ],
   "source": [
    "dissimilarityFunction(1,1)"
   ]
  },
  {
   "cell_type": "markdown",
   "metadata": {},
   "source": [
    "* Now, we create a symmetric matrix to calculate the dissimilarity between the first 5 customers. "
   ]
  },
  {
   "cell_type": "code",
   "execution_count": 13,
   "metadata": {
    "colab": {
     "base_uri": "https://localhost:8080/",
     "height": 255
    },
    "id": "PZ09yzLS-Ls0",
    "outputId": "fd6876d5-be03-4b86-e36e-751e1be75f26"
   },
   "outputs": [
    {
     "data": {
      "text/html": [
       "<div>\n",
       "<style scoped>\n",
       "    .dataframe tbody tr th:only-of-type {\n",
       "        vertical-align: middle;\n",
       "    }\n",
       "\n",
       "    .dataframe tbody tr th {\n",
       "        vertical-align: top;\n",
       "    }\n",
       "\n",
       "    .dataframe thead th {\n",
       "        text-align: right;\n",
       "    }\n",
       "</style>\n",
       "<table border=\"1\" class=\"dataframe\">\n",
       "  <thead>\n",
       "    <tr style=\"text-align: right;\">\n",
       "      <th></th>\n",
       "      <th>1</th>\n",
       "      <th>2</th>\n",
       "      <th>3</th>\n",
       "      <th>4</th>\n",
       "      <th>5</th>\n",
       "    </tr>\n",
       "  </thead>\n",
       "  <tbody>\n",
       "    <tr>\n",
       "      <th>1</th>\n",
       "      <td>NaN</td>\n",
       "      <td>NaN</td>\n",
       "      <td>NaN</td>\n",
       "      <td>NaN</td>\n",
       "      <td>NaN</td>\n",
       "    </tr>\n",
       "    <tr>\n",
       "      <th>2</th>\n",
       "      <td>NaN</td>\n",
       "      <td>NaN</td>\n",
       "      <td>NaN</td>\n",
       "      <td>NaN</td>\n",
       "      <td>NaN</td>\n",
       "    </tr>\n",
       "    <tr>\n",
       "      <th>3</th>\n",
       "      <td>NaN</td>\n",
       "      <td>NaN</td>\n",
       "      <td>NaN</td>\n",
       "      <td>NaN</td>\n",
       "      <td>NaN</td>\n",
       "    </tr>\n",
       "    <tr>\n",
       "      <th>4</th>\n",
       "      <td>NaN</td>\n",
       "      <td>NaN</td>\n",
       "      <td>NaN</td>\n",
       "      <td>NaN</td>\n",
       "      <td>NaN</td>\n",
       "    </tr>\n",
       "    <tr>\n",
       "      <th>5</th>\n",
       "      <td>NaN</td>\n",
       "      <td>NaN</td>\n",
       "      <td>NaN</td>\n",
       "      <td>NaN</td>\n",
       "      <td>NaN</td>\n",
       "    </tr>\n",
       "  </tbody>\n",
       "</table>\n",
       "</div>"
      ],
      "text/plain": [
       "     1    2    3    4    5\n",
       "1  NaN  NaN  NaN  NaN  NaN\n",
       "2  NaN  NaN  NaN  NaN  NaN\n",
       "3  NaN  NaN  NaN  NaN  NaN\n",
       "4  NaN  NaN  NaN  NaN  NaN\n",
       "5  NaN  NaN  NaN  NaN  NaN"
      ]
     },
     "execution_count": 13,
     "metadata": {},
     "output_type": "execute_result"
    }
   ],
   "source": [
    "dismatrix = pd.DataFrame(index=np.arange(5), columns=np.arange(5))\n",
    "dismatrix.index += 1 \n",
    "dismatrix.columns += 1\n",
    "dismatrix.head()"
   ]
  },
  {
   "cell_type": "code",
   "execution_count": 14,
   "metadata": {
    "id": "hBDswyfC-R7j"
   },
   "outputs": [],
   "source": [
    "#compute disimilarity of 5 customers\n",
    "for i in range(1, 6):\n",
    "  for j in range(1, 6):\n",
    "    if i<=j:\n",
    "     dismatrix.loc[i,j] = dissimilarityFunction(i,j)\n",
    "    else:\n",
    "      pass "
   ]
  },
  {
   "cell_type": "code",
   "execution_count": 15,
   "metadata": {
    "colab": {
     "base_uri": "https://localhost:8080/",
     "height": 255
    },
    "id": "xi7B6bjj-l5t",
    "outputId": "e38fdd4b-18ec-40ac-9035-0e0820f376ee"
   },
   "outputs": [
    {
     "data": {
      "text/html": [
       "<div>\n",
       "<style scoped>\n",
       "    .dataframe tbody tr th:only-of-type {\n",
       "        vertical-align: middle;\n",
       "    }\n",
       "\n",
       "    .dataframe tbody tr th {\n",
       "        vertical-align: top;\n",
       "    }\n",
       "\n",
       "    .dataframe thead th {\n",
       "        text-align: right;\n",
       "    }\n",
       "</style>\n",
       "<table border=\"1\" class=\"dataframe\">\n",
       "  <thead>\n",
       "    <tr style=\"text-align: right;\">\n",
       "      <th></th>\n",
       "      <th>1</th>\n",
       "      <th>2</th>\n",
       "      <th>3</th>\n",
       "      <th>4</th>\n",
       "      <th>5</th>\n",
       "    </tr>\n",
       "  </thead>\n",
       "  <tbody>\n",
       "    <tr>\n",
       "      <th>1</th>\n",
       "      <td>0.0</td>\n",
       "      <td>0.539</td>\n",
       "      <td>0.502</td>\n",
       "      <td>0.167</td>\n",
       "      <td>0.234</td>\n",
       "    </tr>\n",
       "    <tr>\n",
       "      <th>2</th>\n",
       "      <td>NaN</td>\n",
       "      <td>0.0</td>\n",
       "      <td>0.391</td>\n",
       "      <td>0.497</td>\n",
       "      <td>0.332</td>\n",
       "    </tr>\n",
       "    <tr>\n",
       "      <th>3</th>\n",
       "      <td>NaN</td>\n",
       "      <td>NaN</td>\n",
       "      <td>0.0</td>\n",
       "      <td>0.347</td>\n",
       "      <td>0.558</td>\n",
       "    </tr>\n",
       "    <tr>\n",
       "      <th>4</th>\n",
       "      <td>NaN</td>\n",
       "      <td>NaN</td>\n",
       "      <td>NaN</td>\n",
       "      <td>0.0</td>\n",
       "      <td>0.36</td>\n",
       "    </tr>\n",
       "    <tr>\n",
       "      <th>5</th>\n",
       "      <td>NaN</td>\n",
       "      <td>NaN</td>\n",
       "      <td>NaN</td>\n",
       "      <td>NaN</td>\n",
       "      <td>0.0</td>\n",
       "    </tr>\n",
       "  </tbody>\n",
       "</table>\n",
       "</div>"
      ],
      "text/plain": [
       "     1      2      3      4      5\n",
       "1  0.0  0.539  0.502  0.167  0.234\n",
       "2  NaN    0.0  0.391  0.497  0.332\n",
       "3  NaN    NaN    0.0  0.347  0.558\n",
       "4  NaN    NaN    NaN    0.0   0.36\n",
       "5  NaN    NaN    NaN    NaN    0.0"
      ]
     },
     "execution_count": 15,
     "metadata": {},
     "output_type": "execute_result"
    }
   ],
   "source": [
    "dismatrix"
   ]
  },
  {
   "cell_type": "markdown",
   "metadata": {
    "id": "H6qHPSXSC1Qt"
   },
   "source": [
    "### **Question 3: Nearest Neighbor(NN) search**\n",
    "\n",
    "* To compute the `Nearest Neighbor` algorithm, we create a new function that takes as input the id of a customer and returns the `10` most similar customers.\n",
    "To do that, it computes the similarity with all of the customers according to the previous function(`similarity = 1 - dissimilarity`)  and it sorts the result. "
   ]
  },
  {
   "cell_type": "code",
   "execution_count": 17,
   "metadata": {
    "id": "XGdAfjQx_858"
   },
   "outputs": [],
   "source": [
    "#q3\n",
    "def NN (a):\n",
    "  data= pd.DataFrame(index=np.arange(10000), columns=['Customer_ID', 'Similarity_Score'])\n",
    "  rows= groceries.shape[0] + 1\n",
    "  for i in range(1, rows):\n",
    "    if (i== a):\n",
    "       pass\n",
    "    else:\n",
    "       data['Customer_ID'][i] = i\n",
    "       data['Similarity_Score'][i] = 1- dissimilarityFunction(a,i)\n",
    "  data=data.sort_values(by=['Similarity_Score'], ascending = False)\n",
    "  return data.head(10).reset_index().iloc[:, 1:3]"
   ]
  },
  {
   "cell_type": "code",
   "execution_count": 18,
   "metadata": {
    "colab": {
     "base_uri": "https://localhost:8080/",
     "height": 381
    },
    "id": "ksCwHQl1AXu2",
    "outputId": "6cd2fb20-7630-4c1f-c44c-008f3b0aaa7f"
   },
   "outputs": [
    {
     "data": {
      "text/html": [
       "<div>\n",
       "<style scoped>\n",
       "    .dataframe tbody tr th:only-of-type {\n",
       "        vertical-align: middle;\n",
       "    }\n",
       "\n",
       "    .dataframe tbody tr th {\n",
       "        vertical-align: top;\n",
       "    }\n",
       "\n",
       "    .dataframe thead th {\n",
       "        text-align: right;\n",
       "    }\n",
       "</style>\n",
       "<table border=\"1\" class=\"dataframe\">\n",
       "  <thead>\n",
       "    <tr style=\"text-align: right;\">\n",
       "      <th></th>\n",
       "      <th>Customer_ID</th>\n",
       "      <th>Similarity_Score</th>\n",
       "    </tr>\n",
       "  </thead>\n",
       "  <tbody>\n",
       "    <tr>\n",
       "      <th>0</th>\n",
       "      <td>1291</td>\n",
       "      <td>0.959</td>\n",
       "    </tr>\n",
       "    <tr>\n",
       "      <th>1</th>\n",
       "      <td>1846</td>\n",
       "      <td>0.951</td>\n",
       "    </tr>\n",
       "    <tr>\n",
       "      <th>2</th>\n",
       "      <td>1627</td>\n",
       "      <td>0.943</td>\n",
       "    </tr>\n",
       "    <tr>\n",
       "      <th>3</th>\n",
       "      <td>4488</td>\n",
       "      <td>0.929</td>\n",
       "    </tr>\n",
       "    <tr>\n",
       "      <th>4</th>\n",
       "      <td>3953</td>\n",
       "      <td>0.924</td>\n",
       "    </tr>\n",
       "    <tr>\n",
       "      <th>5</th>\n",
       "      <td>5922</td>\n",
       "      <td>0.923</td>\n",
       "    </tr>\n",
       "    <tr>\n",
       "      <th>6</th>\n",
       "      <td>4663</td>\n",
       "      <td>0.922</td>\n",
       "    </tr>\n",
       "    <tr>\n",
       "      <th>7</th>\n",
       "      <td>7933</td>\n",
       "      <td>0.918</td>\n",
       "    </tr>\n",
       "    <tr>\n",
       "      <th>8</th>\n",
       "      <td>9404</td>\n",
       "      <td>0.917</td>\n",
       "    </tr>\n",
       "    <tr>\n",
       "      <th>9</th>\n",
       "      <td>5195</td>\n",
       "      <td>0.914</td>\n",
       "    </tr>\n",
       "  </tbody>\n",
       "</table>\n",
       "</div>"
      ],
      "text/plain": [
       "  Customer_ID Similarity_Score\n",
       "0        1291            0.959\n",
       "1        1846            0.951\n",
       "2        1627            0.943\n",
       "3        4488            0.929\n",
       "4        3953            0.924\n",
       "5        5922            0.923\n",
       "6        4663            0.922\n",
       "7        7933            0.918\n",
       "8        9404            0.917\n",
       "9        5195            0.914"
      ]
     },
     "execution_count": 18,
     "metadata": {},
     "output_type": "execute_result"
    }
   ],
   "source": [
    "NN(73)"
   ]
  },
  {
   "cell_type": "markdown",
   "metadata": {
    "id": "PlKBXfp1Mz0m"
   },
   "source": [
    "* The previous table shows that the customer with `id = 1291` is more close to customer `73`, next is the customer with `id = 1841`, and so on and so forth.\n",
    "\n",
    "* And as we can see in the next lines, these 2 customers(with id `73` & `1291`) have very similar characteristics. "
   ]
  },
  {
   "cell_type": "code",
   "execution_count": 19,
   "metadata": {
    "id": "CZWEa1snNW9O"
   },
   "outputs": [
    {
     "data": {
      "text/html": [
       "<div>\n",
       "<style scoped>\n",
       "    .dataframe tbody tr th:only-of-type {\n",
       "        vertical-align: middle;\n",
       "    }\n",
       "\n",
       "    .dataframe tbody tr th {\n",
       "        vertical-align: top;\n",
       "    }\n",
       "\n",
       "    .dataframe thead th {\n",
       "        text-align: right;\n",
       "    }\n",
       "</style>\n",
       "<table border=\"1\" class=\"dataframe\">\n",
       "  <thead>\n",
       "    <tr style=\"text-align: right;\">\n",
       "      <th></th>\n",
       "      <th>Customer_ID</th>\n",
       "      <th>Age</th>\n",
       "      <th>Sex</th>\n",
       "      <th>Marital_Status</th>\n",
       "      <th>Education</th>\n",
       "      <th>Income</th>\n",
       "      <th>Customer_Rating</th>\n",
       "      <th>Persons_in_Household</th>\n",
       "      <th>Occupation</th>\n",
       "      <th>Groceries</th>\n",
       "    </tr>\n",
       "  </thead>\n",
       "  <tbody>\n",
       "    <tr>\n",
       "      <th>72</th>\n",
       "      <td>73</td>\n",
       "      <td>78</td>\n",
       "      <td>female</td>\n",
       "      <td>divorced</td>\n",
       "      <td>3</td>\n",
       "      <td>32000</td>\n",
       "      <td>4</td>\n",
       "      <td>2</td>\n",
       "      <td>retired</td>\n",
       "      <td>frankfurter,citrus fruit,whole milk,domestic e...</td>\n",
       "    </tr>\n",
       "  </tbody>\n",
       "</table>\n",
       "</div>"
      ],
      "text/plain": [
       "    Customer_ID  Age     Sex Marital_Status  Education  Income  \\\n",
       "72           73   78  female       divorced          3   32000   \n",
       "\n",
       "    Customer_Rating  Persons_in_Household Occupation  \\\n",
       "72                4                     2    retired   \n",
       "\n",
       "                                            Groceries  \n",
       "72  frankfurter,citrus fruit,whole milk,domestic e...  "
      ]
     },
     "execution_count": 19,
     "metadata": {},
     "output_type": "execute_result"
    }
   ],
   "source": [
    "groceries.loc[groceries['Customer_ID'] ==73]"
   ]
  },
  {
   "cell_type": "code",
   "execution_count": 20,
   "metadata": {
    "id": "Sk6fjGOaN1fY"
   },
   "outputs": [
    {
     "data": {
      "text/html": [
       "<div>\n",
       "<style scoped>\n",
       "    .dataframe tbody tr th:only-of-type {\n",
       "        vertical-align: middle;\n",
       "    }\n",
       "\n",
       "    .dataframe tbody tr th {\n",
       "        vertical-align: top;\n",
       "    }\n",
       "\n",
       "    .dataframe thead th {\n",
       "        text-align: right;\n",
       "    }\n",
       "</style>\n",
       "<table border=\"1\" class=\"dataframe\">\n",
       "  <thead>\n",
       "    <tr style=\"text-align: right;\">\n",
       "      <th></th>\n",
       "      <th>Customer_ID</th>\n",
       "      <th>Age</th>\n",
       "      <th>Sex</th>\n",
       "      <th>Marital_Status</th>\n",
       "      <th>Education</th>\n",
       "      <th>Income</th>\n",
       "      <th>Customer_Rating</th>\n",
       "      <th>Persons_in_Household</th>\n",
       "      <th>Occupation</th>\n",
       "      <th>Groceries</th>\n",
       "    </tr>\n",
       "  </thead>\n",
       "  <tbody>\n",
       "    <tr>\n",
       "      <th>1290</th>\n",
       "      <td>1291</td>\n",
       "      <td>79</td>\n",
       "      <td>female</td>\n",
       "      <td>divorced</td>\n",
       "      <td>3</td>\n",
       "      <td>30000</td>\n",
       "      <td>4</td>\n",
       "      <td>1</td>\n",
       "      <td>retired</td>\n",
       "      <td>pork,beef,whole milk,curd,rolls/buns,pastry</td>\n",
       "    </tr>\n",
       "  </tbody>\n",
       "</table>\n",
       "</div>"
      ],
      "text/plain": [
       "      Customer_ID  Age     Sex Marital_Status  Education  Income  \\\n",
       "1290         1291   79  female       divorced          3   30000   \n",
       "\n",
       "      Customer_Rating  Persons_in_Household Occupation  \\\n",
       "1290                4                     1    retired   \n",
       "\n",
       "                                        Groceries  \n",
       "1290  pork,beef,whole milk,curd,rolls/buns,pastry  "
      ]
     },
     "execution_count": 20,
     "metadata": {},
     "output_type": "execute_result"
    }
   ],
   "source": [
    "groceries.loc[groceries['Customer_ID'] ==1291]"
   ]
  },
  {
   "cell_type": "markdown",
   "metadata": {
    "id": "S30rG2ddOWdi"
   },
   "source": [
    "* Next, we calculate the 10 nearest neighbors for the customers with the following ids. "
   ]
  },
  {
   "cell_type": "code",
   "execution_count": 21,
   "metadata": {
    "colab": {
     "base_uri": "https://localhost:8080/"
    },
    "id": "uTCLhcUu2a4M",
    "outputId": "26e29ea2-6c1c-4f4f-cfb0-6571c60b088d",
    "scrolled": false
   },
   "outputs": [
    {
     "name": "stdout",
     "output_type": "stream",
     "text": [
      "10 NN for Customer  563\n",
      "  Customer_ID Similarity_Score\n",
      "0        3634            0.931\n",
      "1        6168            0.923\n",
      "2        6196            0.908\n",
      "3        2766            0.907\n",
      "4        1277            0.899\n",
      "5         419            0.899\n",
      "6        4311            0.897\n",
      "7        8270            0.895\n",
      "8        7202            0.893\n",
      "9        7049            0.893\n",
      "\n",
      "10 NN for Customer  1603\n",
      "  Customer_ID Similarity_Score\n",
      "0        7345            0.945\n",
      "1        4814            0.927\n",
      "2        7335            0.925\n",
      "3         568            0.923\n",
      "4        8959            0.921\n",
      "5         168            0.916\n",
      "6        8591            0.909\n",
      "7        6841            0.898\n",
      "8        6751            0.891\n",
      "9        9260             0.89\n",
      "\n",
      "10 NN for Customer  2200\n",
      "  Customer_ID Similarity_Score\n",
      "0         403            0.897\n",
      "1        7497            0.882\n",
      "2        6722            0.867\n",
      "3        8884            0.864\n",
      "4        3551            0.861\n",
      "5        5160            0.861\n",
      "6        5330            0.859\n",
      "7        4928            0.835\n",
      "8        6942            0.833\n",
      "9        2667             0.83\n",
      "\n",
      "10 NN for Customer  3703\n",
      "  Customer_ID Similarity_Score\n",
      "0        9942            0.962\n",
      "1         374            0.956\n",
      "2        3352             0.95\n",
      "3        9419            0.944\n",
      "4        1604            0.944\n",
      "5        1837            0.944\n",
      "6        6587            0.942\n",
      "7        5853            0.936\n",
      "8        4838            0.935\n",
      "9        7847            0.931\n",
      "\n",
      "10 NN for Customer  4263\n",
      "  Customer_ID Similarity_Score\n",
      "0        5427            0.923\n",
      "1        2195            0.922\n",
      "2        9536            0.922\n",
      "3        3822            0.921\n",
      "4        5829             0.92\n",
      "5        4990            0.919\n",
      "6        9051            0.916\n",
      "7        1896            0.911\n",
      "8        2832              0.9\n",
      "9        2972            0.897\n",
      "\n",
      "10 NN for Customer  5300\n",
      "  Customer_ID Similarity_Score\n",
      "0        2110             0.95\n",
      "1        8711            0.949\n",
      "2        8497            0.946\n",
      "3        3039            0.945\n",
      "4        8068            0.944\n",
      "5        3470            0.941\n",
      "6         326            0.939\n",
      "7        3533            0.939\n",
      "8        7542            0.937\n",
      "9        8982            0.936\n",
      "\n",
      "10 NN for Customer  6129\n",
      "  Customer_ID Similarity_Score\n",
      "0        1082            0.952\n",
      "1        7870            0.941\n",
      "2        6387            0.938\n",
      "3        5301            0.934\n",
      "4        7563            0.926\n",
      "5        4933            0.924\n",
      "6        4856            0.922\n",
      "7        7837            0.922\n",
      "8        7557            0.921\n",
      "9         980            0.917\n",
      "\n",
      "10 NN for Customer  7800\n",
      "  Customer_ID Similarity_Score\n",
      "0        2126            0.914\n",
      "1         186            0.912\n",
      "2        2342             0.87\n",
      "3        9116            0.863\n",
      "4        7470            0.863\n",
      "5        8293            0.858\n",
      "6         673            0.854\n",
      "7        2506            0.844\n",
      "8        1847            0.838\n",
      "9        8212            0.835\n",
      "\n",
      "10 NN for Customer  8555\n",
      "  Customer_ID Similarity_Score\n",
      "0        1486            0.933\n",
      "1        6823            0.925\n",
      "2        8732             0.92\n",
      "3        3894            0.918\n",
      "4        7964            0.917\n",
      "5        3012            0.913\n",
      "6        7203            0.912\n",
      "7        4406             0.91\n",
      "8        6092             0.91\n",
      "9        2458             0.91\n",
      "\n"
     ]
    }
   ],
   "source": [
    "nn = (563, 1603, 2200, 3703, 4263, 5300, 6129, 7800, 8555)\n",
    "for i in nn:\n",
    "  print('10 NN for Customer ', i)\n",
    "  print(NN(i))\n",
    "  print()"
   ]
  },
  {
   "cell_type": "markdown",
   "metadata": {
    "id": "ap4c5tzBh1qV"
   },
   "source": [
    "### **Question 4: Customer rating prediction**\n",
    "\n",
    "#### Part 1:\n",
    "* For calculating the prediction of the `Custumer Rating` attribute, we had to create, again, another function, similar to the one in the second question (`dissimilarityFunction`), in order to calculate the dissimilarity in all the variables except the one above (`Custumer Rating`)."
   ]
  },
  {
   "cell_type": "code",
   "execution_count": 22,
   "metadata": {
    "id": "6I3pQh4EaAya"
   },
   "outputs": [],
   "source": [
    "#dissimilarityFunction\n",
    "def dissimilarityFunction_Prediction(a, b):\n",
    "     # Age\n",
    "     age1 = groceries['Age'].loc[groceries['Customer_ID'] == a].values[0]\n",
    "     age2 = b['Age']\n",
    "     AgeDissimilarity=(abs(age1 - age2)) /(max(groceries['Age']) - min(groceries['Age']))\n",
    "     \n",
    "     #sex\n",
    "     sexa = groceries['Sex'].loc[groceries['Customer_ID'] == a].values[0]\n",
    "     sexb = b['Sex']\n",
    "     if (sexa==sexb):\n",
    "        SexSimilarity = 1\n",
    "     else:\n",
    "        SexSimilarity = 0\n",
    "     \n",
    "     SexDissimilarity = 1 - SexSimilarity\n",
    "\n",
    "     #martital\n",
    "     martitala = groceries['Marital_Status'].loc[groceries['Customer_ID'] == a].values[0]\n",
    "     martitalb = b['Marital_Status']\n",
    "     if (martitala==martitalb):\n",
    "        MartitalSimilarity = 1\n",
    "     else:\n",
    "        MartitalSimilarity= 0\n",
    "     \n",
    "     MartitalDissimilarity = 1 - MartitalSimilarity\n",
    "\n",
    "     # Education \n",
    "     educationa = groceries['Education'].loc[groceries['Customer_ID'] == a].values[0] \n",
    "     educationb = b['Education']\n",
    "\n",
    "     EducationDissimilarity= abs(educationa - educationb) / (max(groceries['Education']) - min(groceries['Education']))\n",
    "\n",
    "     #income\n",
    "     incomea = groceries['Income'].loc[groceries['Customer_ID'] == a].values[0]\n",
    "     incomeb = b['Income']\n",
    "     IncomeDissimilarity=(abs(incomea - incomeb)) /(max(groceries['Income']) - min(groceries['Income']))\n",
    "\n",
    "     #Persons_in_Household\n",
    "     personsa = groceries['Persons_in_Household'].loc[groceries['Customer_ID'] == a].values[0]\n",
    "     personsb = b['Persons_in_Household']\n",
    "     Persons_in_HouseholdDissimilarity=(abs(personsa - personsb)) /(max(groceries['Persons_in_Household']) - min(groceries['Persons_in_Household']))\n",
    "\n",
    "     #Occupation\n",
    "     occupationa = groceries['Occupation'].loc[groceries['Customer_ID'] == a].values[0]\n",
    "     occupationb = b['Occupation']\n",
    "     if (occupationa==occupationb):\n",
    "        OccupationSimilarity = 1\n",
    "     else:\n",
    "        OccupationSimilarity = 0\n",
    "     \n",
    "     OccupationDissimilarity = 1 - OccupationSimilarity\n",
    "\n",
    "     #Groceries\n",
    "     list1= groceries['Groceries'].loc[groceries['Customer_ID'] == a].values[0]\n",
    "     list2= b['Groceries']\n",
    "     intersection = len(list(set(list1).intersection(list2)))\n",
    "     union = (len(set (list1)) + len(set (list2))) - intersection\n",
    "     JaccardSimilarity= float(intersection) / union\n",
    "\n",
    "     JaccardDissimilarity= 1- JaccardSimilarity\n",
    "     \n",
    "\n",
    "     avgDissimilarity= (AgeDissimilarity+SexDissimilarity+MartitalDissimilarity+ EducationDissimilarity+IncomeDissimilarity+Persons_in_HouseholdDissimilarity+OccupationDissimilarity+JaccardDissimilarity) / 8  \n",
    "     return (avgDissimilarity.round(3))"
   ]
  },
  {
   "cell_type": "markdown",
   "metadata": {
    "id": "00vWpM03jnGy"
   },
   "source": [
    "* Later, we made a function called `CRP` (Customer Rating Prediction), that takes as argument a customer and produces another one with the `10` first more similar to him customers. So, in the end, we have a dataframe showing for that specific customer which other, are less dis-similar from him (more similar).\n",
    "\n",
    "*This function looks like the `NN()` created above.*"
   ]
  },
  {
   "cell_type": "code",
   "execution_count": 23,
   "metadata": {
    "id": "vYXTrjj8d462"
   },
   "outputs": [],
   "source": [
    "def CRP (a):\n",
    "  data= pd.DataFrame(index=np.arange(10000), columns=['Customer_ID', 'Similarity_Score'])\n",
    "  rows= groceries.shape[0] + 1\n",
    "  for i in range(1, rows):\n",
    "      data['Customer_ID'][i] = i\n",
    "      data['Similarity_Score'][i] = 1 - dissimilarityFunction_Prediction(i,a) \n",
    "  data=data.dropna()\n",
    "  data=data.sort_values(by=['Similarity_Score'], ascending = False)\n",
    "  return data[1:11].reset_index().iloc[:, 1:3]"
   ]
  },
  {
   "cell_type": "markdown",
   "metadata": {
    "id": "-8xDar1flRyI"
   },
   "source": [
    "* Next, we designed a function for generating the predicted rating for one customer, based on its 10th nearest neighbors."
   ]
  },
  {
   "cell_type": "code",
   "execution_count": 24,
   "metadata": {
    "id": "I9ofDpvxnyc_"
   },
   "outputs": [],
   "source": [
    "def predict(df):\n",
    "  cr = list()\n",
    "  for i in df.iloc[:,0]:\n",
    "    cr.append(groceries['Customer_Rating'].loc[groceries['Customer_ID'] == i].values[0])\n",
    "\n",
    "  kv = [key for key, values in mapping1.items() if values == round(sum(cr)/len(cr))]\n",
    "  return kv"
   ]
  },
  {
   "cell_type": "markdown",
   "metadata": {
    "id": "yU3S5QmbmmWW"
   },
   "source": [
    "* So, in the end we have the prediction of a customer based on the average rating of the 10 most similar customers."
   ]
  },
  {
   "cell_type": "markdown",
   "metadata": {
    "id": "0Q_HyRnKmZa5"
   },
   "source": [
    "#### Part 2:\n",
    "* For calculating the prediction of customer rating, we had to use the weighted average rating of the 10 most similar customers, taking also into account the already having rating. So, we constructed a function called `weight` in order to predict this rating. The referring function takes a customer from the `groceries` dataframe, finds its 10 most nearest neighbors from the function created in the previous question (`CRP`), adds a new column in this dataframe containing the rating of its neighbors (column named `rating`) and then return the predicted value (weighted average). "
   ]
  },
  {
   "cell_type": "code",
   "execution_count": 25,
   "metadata": {
    "id": "6gsjAtwoH5yM"
   },
   "outputs": [],
   "source": [
    "def weight(cust):\n",
    "  df = CRP(cust)\n",
    "  df['rating'] = ''\n",
    "  for i in range(len(df.iloc[:,1])):\n",
    "    df['rating'][i] =  groceries['Customer_Rating'].loc[groceries['Customer_ID'] == df.iloc[i,0]].values[0]\n",
    "\n",
    "  rating = round(sum(df.iloc[:,1].astype('float64')*df.iloc[:,2]) / sum(df.iloc[:,1]))\n",
    "  kv = [key for key, values in mapping1.items() if values == rating]\n",
    "  return kv"
   ]
  },
  {
   "cell_type": "markdown",
   "metadata": {
    "id": "3CzueZR7ynuS"
   },
   "source": [
    "#### Evaluation\n",
    "\n",
    "* For the evaluation of the above classification algorithms we had to use the `50` first records of the `groceries` dataset and predicted the rating for them. Then, we calculated the Mean Prediction Error (MPE) for both prediction methods. "
   ]
  },
  {
   "cell_type": "code",
   "execution_count": 28,
   "metadata": {
    "colab": {
     "base_uri": "https://localhost:8080/",
     "height": 1000
    },
    "id": "FU-7ax8g_jQY",
    "outputId": "9bc3f6a2-94f3-42f3-f1b6-23df0907fbf6"
   },
   "outputs": [
    {
     "data": {
      "text/html": [
       "<div>\n",
       "<style scoped>\n",
       "    .dataframe tbody tr th:only-of-type {\n",
       "        vertical-align: middle;\n",
       "    }\n",
       "\n",
       "    .dataframe tbody tr th {\n",
       "        vertical-align: top;\n",
       "    }\n",
       "\n",
       "    .dataframe thead th {\n",
       "        text-align: right;\n",
       "    }\n",
       "</style>\n",
       "<table border=\"1\" class=\"dataframe\">\n",
       "  <thead>\n",
       "    <tr style=\"text-align: right;\">\n",
       "      <th></th>\n",
       "      <th>Customer_ID</th>\n",
       "      <th>Age</th>\n",
       "      <th>Sex</th>\n",
       "      <th>Marital_Status</th>\n",
       "      <th>Education</th>\n",
       "      <th>Income</th>\n",
       "      <th>Customer_Rating</th>\n",
       "      <th>Persons_in_Household</th>\n",
       "      <th>Occupation</th>\n",
       "      <th>Groceries</th>\n",
       "    </tr>\n",
       "  </thead>\n",
       "  <tbody>\n",
       "    <tr>\n",
       "      <th>0</th>\n",
       "      <td>1</td>\n",
       "      <td>75</td>\n",
       "      <td>male</td>\n",
       "      <td>married</td>\n",
       "      <td>1</td>\n",
       "      <td>20000</td>\n",
       "      <td>4</td>\n",
       "      <td>3</td>\n",
       "      <td>retired</td>\n",
       "      <td>citrus fruit,semi-finished bread,margarine,rea...</td>\n",
       "    </tr>\n",
       "    <tr>\n",
       "      <th>1</th>\n",
       "      <td>2</td>\n",
       "      <td>61</td>\n",
       "      <td>female</td>\n",
       "      <td>single</td>\n",
       "      <td>2</td>\n",
       "      <td>28000</td>\n",
       "      <td>3</td>\n",
       "      <td>1</td>\n",
       "      <td>housemaid</td>\n",
       "      <td>tropical fruit,yogurt,coffee</td>\n",
       "    </tr>\n",
       "    <tr>\n",
       "      <th>2</th>\n",
       "      <td>3</td>\n",
       "      <td>32</td>\n",
       "      <td>male</td>\n",
       "      <td>single</td>\n",
       "      <td>2</td>\n",
       "      <td>34000</td>\n",
       "      <td>4</td>\n",
       "      <td>1</td>\n",
       "      <td>blue-collar</td>\n",
       "      <td>whole milk</td>\n",
       "    </tr>\n",
       "    <tr>\n",
       "      <th>3</th>\n",
       "      <td>4</td>\n",
       "      <td>62</td>\n",
       "      <td>male</td>\n",
       "      <td>married</td>\n",
       "      <td>1</td>\n",
       "      <td>31000</td>\n",
       "      <td>4</td>\n",
       "      <td>3</td>\n",
       "      <td>blue-collar</td>\n",
       "      <td>pip fruit,yogurt,cream cheese,meat spreads</td>\n",
       "    </tr>\n",
       "    <tr>\n",
       "      <th>4</th>\n",
       "      <td>5</td>\n",
       "      <td>66</td>\n",
       "      <td>female</td>\n",
       "      <td>married</td>\n",
       "      <td>2</td>\n",
       "      <td>19000</td>\n",
       "      <td>3</td>\n",
       "      <td>3</td>\n",
       "      <td>retired</td>\n",
       "      <td>other vegetables,whole milk,condensed milk,lon...</td>\n",
       "    </tr>\n",
       "  </tbody>\n",
       "</table>\n",
       "</div>"
      ],
      "text/plain": [
       "   Customer_ID  Age     Sex Marital_Status  Education  Income  \\\n",
       "0            1   75    male        married          1   20000   \n",
       "1            2   61  female         single          2   28000   \n",
       "2            3   32    male         single          2   34000   \n",
       "3            4   62    male        married          1   31000   \n",
       "4            5   66  female        married          2   19000   \n",
       "\n",
       "   Customer_Rating  Persons_in_Household   Occupation  \\\n",
       "0                4                     3      retired   \n",
       "1                3                     1    housemaid   \n",
       "2                4                     1  blue-collar   \n",
       "3                4                     3  blue-collar   \n",
       "4                3                     3      retired   \n",
       "\n",
       "                                           Groceries  \n",
       "0  citrus fruit,semi-finished bread,margarine,rea...  \n",
       "1                       tropical fruit,yogurt,coffee  \n",
       "2                                         whole milk  \n",
       "3         pip fruit,yogurt,cream cheese,meat spreads  \n",
       "4  other vegetables,whole milk,condensed milk,lon...  "
      ]
     },
     "execution_count": 28,
     "metadata": {},
     "output_type": "execute_result"
    }
   ],
   "source": [
    "eval = groceries[:50]\n",
    "eval.head()"
   ]
  },
  {
   "cell_type": "code",
   "execution_count": 27,
   "metadata": {
    "colab": {
     "base_uri": "https://localhost:8080/",
     "height": 247
    },
    "id": "2uU1X08VC6TY",
    "outputId": "8b5f10f6-935d-4140-e23f-c765b543dc1b"
   },
   "outputs": [
    {
     "name": "stdout",
     "output_type": "stream",
     "text": [
      "Mean Prediction Error for the 1st Method: 0.7\n",
      "Mean Prediction Error for the 2nd Method: 0.72\n"
     ]
    }
   ],
   "source": [
    "mpe1 = list()\n",
    "mpe2 = list()\n",
    "for i in range(len(eval.iloc[:,1])):\n",
    "  pr = predict(CRP(eval.iloc[i,[0,1,2,3,4,5,7,8,9]]))\n",
    "  mpe1.append(abs(mapping1[pr[0]]- eval['Customer_Rating'][i]))\n",
    "  mpe2.append(abs(mapping1[weight(eval.iloc[i,[0,1,2,3,4,5,7,8,9]])[0]]- eval['Customer_Rating'][i]))\n",
    "\n",
    "mpe_fin1 = sum(mpe1)/len(eval.iloc[:,1])\n",
    "mpe_fin2 = sum(mpe2)/len(eval.iloc[:,1])\n",
    "print('Mean Prediction Error for the 1st Method:', mpe_fin1)\n",
    "print('Mean Prediction Error for the 2nd Method:', mpe_fin2)"
   ]
  },
  {
   "cell_type": "markdown",
   "metadata": {
    "id": "2DaiJ9iozxck"
   },
   "source": [
    "* As we can observe from the output of the above script, the Mean Prediction Error for both the two methods is nearly the same. In the first case is nearly `0,7` and in the second is `0,72`. This error shows, on average, how much deviation the expected values of a customer rating have from their actual values. The bigger it is, the worse. So, the values found earlier are good indications of well predicted methods. Because of the fact that if we round these predictors will not exceed the `1` unit, we can also conclude that if the actual rating of a customer to a supermarket is `good` then the predictors will give us either `good`, `fair` or `very good`. "
   ]
  },
  {
   "cell_type": "markdown",
   "metadata": {
    "id": "MqvoVewsygPc"
   },
   "source": [
    "**Conclusions**\n",
    "\n",
    "The above script is a useful tool for one company, such as supermarket, in order to predict the rating of its customers, based on their demographic characteristics. If in this company a new client is going to be added, then based on the other customers and how similar they are with him, we can predict his/her rating with really big precision. This tool adds big value to a company, because by exploiting it, it could take various decisions concerning the marketing field, such as more directed advertisement.\n",
    "\n",
    "Finally, it would be a good idea if the company evolves this script by adding more methods like clustering of the customers. But, before doing this, the company should consider its resources, because each computation in order to run correctly needs a lot of time."
   ]
  }
 ],
 "metadata": {
  "colab": {
   "collapsed_sections": [],
   "name": "p2822004_p2822007.ipynb",
   "provenance": []
  },
  "kernelspec": {
   "display_name": "Python 3",
   "language": "python",
   "name": "python3"
  },
  "language_info": {
   "codemirror_mode": {
    "name": "ipython",
    "version": 3
   },
   "file_extension": ".py",
   "mimetype": "text/x-python",
   "name": "python",
   "nbconvert_exporter": "python",
   "pygments_lexer": "ipython3",
   "version": "3.8.3"
  }
 },
 "nbformat": 4,
 "nbformat_minor": 1
}
